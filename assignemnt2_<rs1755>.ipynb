{
  "nbformat": 4,
  "nbformat_minor": 0,
  "metadata": {
    "colab": {
      "provenance": [],
      "authorship_tag": "ABX9TyPipWmBOBxulgVhbhTC1c7v",
      "include_colab_link": true
    },
    "kernelspec": {
      "name": "python3",
      "display_name": "Python 3"
    },
    "language_info": {
      "name": "python"
    }
  },
  "cells": [
    {
      "cell_type": "markdown",
      "metadata": {
        "id": "view-in-github",
        "colab_type": "text"
      },
      "source": [
        "<a href=\"https://colab.research.google.com/github/Raghadshh/RaghadShaheen_DTSC3020_Fall2025/blob/main/assignemnt2_%3Crs1755%3E.ipynb\" target=\"_parent\"><img src=\"https://colab.research.google.com/assets/colab-badge.svg\" alt=\"Open In Colab\"/></a>"
      ]
    },
    {
      "cell_type": "code",
      "execution_count": 5,
      "metadata": {
        "colab": {
          "base_uri": "https://localhost:8080/"
        },
        "id": "ECe3i4lNlARy",
        "outputId": "23b6270d-cf5b-4d47-be37-bf1697a5e2a1"
      },
      "outputs": [
        {
          "output_type": "stream",
          "name": "stdout",
          "text": [
            "['apple', 'banana', 'orange']\n",
            "apple\n",
            "banana\n",
            "orange\n"
          ]
        }
      ],
      "source": [
        "fruits =[\"apple\", \"banana\", \"orange\"]\n",
        "print(fruits)\n",
        "for fruit in fruits:\n",
        "  print(fruit)"
      ]
    },
    {
      "cell_type": "code",
      "source": [
        "names = [\"jake\", \"mike\", \"jason\", \"luis\"]\n",
        "names[0] = \"cruz\"\n",
        "print(names)"
      ],
      "metadata": {
        "colab": {
          "base_uri": "https://localhost:8080/"
        },
        "id": "Q6mOUSGll48U",
        "outputId": "67a04145-82cf-4249-910f-62fff010a3cb"
      },
      "execution_count": 6,
      "outputs": [
        {
          "output_type": "stream",
          "name": "stdout",
          "text": [
            "['cruz', 'mike', 'jason', 'luis']\n"
          ]
        }
      ]
    },
    {
      "cell_type": "code",
      "source": [
        "vehicles = [\"car\",\"bus\", \"bike\", \"train\", \"boat\"]\n",
        "vehicles.append(\"motorcycle\")\n",
        "print(vehicles)"
      ],
      "metadata": {
        "colab": {
          "base_uri": "https://localhost:8080/"
        },
        "id": "nuvDIi1OmND2",
        "outputId": "8dfff2ce-4861-4ecb-f433-b4c90c67a088"
      },
      "execution_count": 7,
      "outputs": [
        {
          "output_type": "stream",
          "name": "stdout",
          "text": [
            "['car', 'bus', 'bike', 'train', 'boat', 'motorcycle']\n"
          ]
        }
      ]
    },
    {
      "cell_type": "code",
      "source": [
        "foods = [\"chips\", \"burger\", \"pizza\", \"bagel\", \"pasta\", \"apples\"]\n",
        "del foods[1]\n",
        "print(foods)"
      ],
      "metadata": {
        "colab": {
          "base_uri": "https://localhost:8080/"
        },
        "id": "xOkcZN5kmhWl",
        "outputId": "24aaea7a-f3da-4295-8c5f-02204153b975"
      },
      "execution_count": 10,
      "outputs": [
        {
          "output_type": "stream",
          "name": "stdout",
          "text": [
            "['chips', 'pizza', 'bagel', 'pasta', 'apples']\n"
          ]
        }
      ]
    },
    {
      "cell_type": "code",
      "source": [
        "cities = [\"dallas\",\"austin\", \"houston\", \"prosper\"]\n",
        "cities.sort()\n",
        "print(cities)\n",
        "cities.reverse()\n",
        "print(cities)"
      ],
      "metadata": {
        "colab": {
          "base_uri": "https://localhost:8080/"
        },
        "id": "vNo6FDWhnG7E",
        "outputId": "cc69d283-dae1-4af1-fa52-6256bfcfb0c7"
      },
      "execution_count": 13,
      "outputs": [
        {
          "output_type": "stream",
          "name": "stdout",
          "text": [
            "['austin', 'dallas', 'houston', 'prosper']\n",
            "['prosper', 'houston', 'dallas', 'austin']\n"
          ]
        }
      ]
    },
    {
      "cell_type": "code",
      "source": [
        "animals = [\"cats\", \"dogs\", \"birds\"]\n",
        "for animal in animals:\n",
        "  print(animal)"
      ],
      "metadata": {
        "colab": {
          "base_uri": "https://localhost:8080/"
        },
        "id": "WI1lGxNMovj9",
        "outputId": "0ac799da-03f5-41c1-e22d-4caeb6e9cd92"
      },
      "execution_count": 16,
      "outputs": [
        {
          "output_type": "stream",
          "name": "stdout",
          "text": [
            "cats\n",
            "dogs\n",
            "birds\n"
          ]
        }
      ]
    },
    {
      "cell_type": "code",
      "source": [
        "for num in range(1, 6):\n",
        "    print(num * 2)"
      ],
      "metadata": {
        "colab": {
          "base_uri": "https://localhost:8080/"
        },
        "id": "5KisDeY3pDjv",
        "outputId": "6dacf432-39e0-43c7-a6b2-cbf2bd7accbd"
      },
      "execution_count": 31,
      "outputs": [
        {
          "output_type": "stream",
          "name": "stdout",
          "text": [
            "2\n",
            "4\n",
            "6\n",
            "8\n",
            "10\n"
          ]
        }
      ]
    },
    {
      "cell_type": "code",
      "source": [
        "friends = [\"serene\", \"mike\", \"jana\", \"lana\", \"sara\", \"garret\"]\n",
        "print(\"First three friends:\", friends[:3])\n",
        "print(\"Last three friends:\", friends[-3:])"
      ],
      "metadata": {
        "colab": {
          "base_uri": "https://localhost:8080/"
        },
        "id": "IlSfxqktpnNe",
        "outputId": "b97c7eb9-0795-4c13-9b3a-a6f7f8da7603"
      },
      "execution_count": 23,
      "outputs": [
        {
          "output_type": "stream",
          "name": "stdout",
          "text": [
            "First three friends: ['serene', 'mike', 'jana']\n",
            "Last three friends: ['lana', 'sara', 'garret']\n"
          ]
        }
      ]
    },
    {
      "cell_type": "code",
      "source": [
        "numberslist = list(range(1, 11))\n",
        "print(numberslist)"
      ],
      "metadata": {
        "colab": {
          "base_uri": "https://localhost:8080/"
        },
        "id": "kUEx3V9VqPxP",
        "outputId": "fa7693a8-f30b-49aa-d869-1148867c6c96"
      },
      "execution_count": 29,
      "outputs": [
        {
          "output_type": "stream",
          "name": "stdout",
          "text": [
            "[1, 2, 3, 4, 5, 6, 7, 8, 9, 10]\n"
          ]
        }
      ]
    },
    {
      "cell_type": "code",
      "source": [
        "squares = [num**2 for num in range(1, 6)]\n",
        "print(squares)"
      ],
      "metadata": {
        "colab": {
          "base_uri": "https://localhost:8080/"
        },
        "id": "tG8HILMxqyN5",
        "outputId": "01990bbd-79ed-4963-eb08-7413feb83ae3"
      },
      "execution_count": 30,
      "outputs": [
        {
          "output_type": "stream",
          "name": "stdout",
          "text": [
            "[1, 4, 9, 16, 25]\n"
          ]
        }
      ]
    }
  ]
}