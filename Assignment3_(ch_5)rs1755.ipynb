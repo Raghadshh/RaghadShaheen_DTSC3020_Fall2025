{
  "cells": [
    {
      "cell_type": "markdown",
      "metadata": {
        "id": "view-in-github",
        "colab_type": "text"
      },
      "source": [
        "<a href=\"https://colab.research.google.com/github/Raghadshh/RaghadShaheen_DTSC3020_Fall2025/blob/main/Assignment3_(ch_5)rs1755.ipynb\" target=\"_parent\"><img src=\"https://colab.research.google.com/assets/colab-badge.svg\" alt=\"Open In Colab\"/></a>"
      ]
    },
    {
      "cell_type": "markdown",
      "metadata": {
        "id": "nevCG4Qs0b8R"
      },
      "source": [
        "# DTSC 3020 – Assignment 3\n",
        "\n",
        "This exercise focuses on **if statements and conditional logic** in Python and is designed to help students practice decision-making structures.\n",
        "\n",
        "**Total points:** 5  \n",
        "**Deadline:** Friday at midnight  \n",
        "**Submission:** Upload your Python file to your GitHub repository and submit **only your GitHub link**.\n",
        "\n",
        "### Expectations\n",
        "- Write complete answers and run all cells before submission.\n",
        "- Keep the notebook clean (no unnecessary code).\n",
        "\n"
      ],
      "id": "nevCG4Qs0b8R"
    },
    {
      "cell_type": "markdown",
      "metadata": {
        "id": "gfumj0DY0b8f"
      },
      "source": [
        "## Question 1 – Movie Ticket System\n",
        "Write a Python code that checks the price of a movie ticket.\n",
        "If the age is between 0 and 11 it is Child, if between 12 and 17 it is Teen, and if 18 or older it is Adult.\n",
        "Print the category and the ticket price (you choose the price).\n",
        "Run the program with age = 16."
      ],
      "id": "gfumj0DY0b8f"
    },
    {
      "cell_type": "code",
      "metadata": {
        "id": "67TGDT6w0b8k",
        "colab": {
          "base_uri": "https://localhost:8080/"
        },
        "outputId": "cdf5adab-357a-4d8f-bfdc-57635b86e848"
      },
      "execution_count": null,
      "outputs": [
        {
          "output_type": "stream",
          "name": "stdout",
          "text": [
            "Teen 8$\n"
          ]
        }
      ],
      "source": [
        "# write your answer here\n",
        "age = 16\n",
        "\n",
        "if age < 12:\n",
        "  print(\"Child 5$\")\n",
        "elif age < 18:\n",
        "  print(\"Teen 8$\")\n",
        "elif age > 17:\n",
        "  print(\"Adult 11$\")"
      ],
      "id": "67TGDT6w0b8k"
    },
    {
      "cell_type": "markdown",
      "metadata": {
        "id": "_tUFNVKT0b8r"
      },
      "source": [
        "## Question 2 – Online Store Discount\n",
        "Write a Python code that applies a discount based on the shopping cart total.\n",
        "If the total is less than 50 dollars there is no discount, if the total is between 50 and 99 dollars there is a 10 percent discount, and if the total is 100 dollars or more there is a 20 percent discount.\n",
        "Print the original total, the discount, and the final price.\n",
        "Run the program with cart_total = 85."
      ],
      "id": "_tUFNVKT0b8r"
    },
    {
      "cell_type": "code",
      "metadata": {
        "id": "yTtX719o0b8v",
        "colab": {
          "base_uri": "https://localhost:8080/"
        },
        "outputId": "84e726b0-afd3-42e0-ba72-e2f3909433d6"
      },
      "execution_count": 1,
      "outputs": [
        {
          "output_type": "stream",
          "name": "stdout",
          "text": [
            "Original Total: $85\n",
            "Discount:  $0.1\n",
            "Final Price:  $76.5\n"
          ]
        }
      ],
      "source": [
        "# write your answer here\n",
        "cart_total = 85\n",
        "discount_percentage = 0\n",
        "\n",
        "\n",
        "if cart_total < 50:\n",
        "  discount_percentage = 0\n",
        "  print(f\"Original Total: ${cart_total}\")\n",
        "  print(f\"Discount:  ${discount_percentage}\")\n",
        "  tosubtract = cart_total * discount_percentage\n",
        "  print(f\"Final Price:  ${cart_total - tosubtract}\")\n",
        "elif cart_total < 100:\n",
        "  discount_percentage = 0.10\n",
        "  print(f\"Original Total: ${cart_total}\")\n",
        "  print(f\"Discount:  ${discount_percentage}\")\n",
        "  tosubtract = cart_total * discount_percentage\n",
        "  print(f\"Final Price:  ${cart_total - tosubtract}\")\n",
        "elif cart_total >= 100:\n",
        "  discount_percentage = 0.20\n",
        "  print(f\"Original Total: ${cart_total}\")\n",
        "  print(f\"Discount:  ${discount_percentage}\")\n",
        "  tosubtract = cart_total * discount_percentage\n",
        "  print(f\"Final Price:  ${cart_total - tosubtract}\")\n",
        "\n"
      ],
      "id": "yTtX719o0b8v"
    },
    {
      "cell_type": "markdown",
      "metadata": {
        "id": "uOUYYC870b8x"
      },
      "source": [
        "## Question 3 – Exam Grading\n",
        "Write a Python code that gives a letter grade for a score.\n",
        "If the score is between 90 and 100 the grade is A, if between 80 and 89 the grade is B, if between 70 and 79 the grade is C, if between 60 and 69 the grade is D, and if below 60 the grade is F.\n",
        "Print the grade and a short message.\n",
        "Run the program with score = 73."
      ],
      "id": "uOUYYC870b8x"
    },
    {
      "cell_type": "code",
      "metadata": {
        "id": "HDtf_YLG0b8y",
        "colab": {
          "base_uri": "https://localhost:8080/"
        },
        "outputId": "b67e18d3-71a4-4a32-d428-1ab204335d2c"
      },
      "execution_count": 14,
      "outputs": [
        {
          "output_type": "stream",
          "name": "stdout",
          "text": [
            "Your grade: C \n",
            " ok, try better next time\n"
          ]
        }
      ],
      "source": [
        "# write your answer here\n",
        "score = 73\n",
        "\n",
        "if score >= 90:\n",
        "  print(\"Your grade: A \\n Amazing work!\")\n",
        "elif 80 <= score <= 89:\n",
        "  print(\"Your grade: B \\n good job!\")\n",
        "elif 70 <= score <= 79:\n",
        "  print(\"Your grade: C \\n ok, try better next time\")\n",
        "elif 60 <= score <= 69:\n",
        "  print(\"Your grade: D \\n not good\")\n",
        "elif score < 60:\n",
        "  print(\"Your grade: F \\n You failed!\")"
      ],
      "id": "HDtf_YLG0b8y"
    },
    {
      "cell_type": "markdown",
      "metadata": {
        "id": "ZCIKM6Xs0b80"
      },
      "source": [
        "## Question 4 – Parking Fee\n",
        "Write a Python code that calculates parking fees.\n",
        "If the car is parked for 0 to 2 hours the parking is free, if the car is parked for 3 to 5 hours the fee is 3 dollars per hour, and if the car is parked for more than 5 hours the fee is 3 dollars per hour for the first three hours after free and then 5 dollars per hour for the rest.\n",
        "Print the number of hours and the total fee.\n",
        "Run the program with hours = 6."
      ],
      "id": "ZCIKM6Xs0b80"
    },
    {
      "cell_type": "code",
      "metadata": {
        "id": "g3a_sPo50b81",
        "colab": {
          "base_uri": "https://localhost:8080/"
        },
        "outputId": "ff57ed92-335e-4ee8-d68e-967ffa764956"
      },
      "execution_count": null,
      "outputs": [
        {
          "output_type": "stream",
          "name": "stdout",
          "text": [
            "Number of hours: 6\n",
            "Total fee: $14\n"
          ]
        }
      ],
      "source": [
        "# write your answer here\n",
        "hours = 6\n",
        "\n",
        "\n",
        "if 0 <= hours <= 2:\n",
        "  totalfee = 0\n",
        "  print(f\"Number of hours: {hours}\")\n",
        "  print(f\"Total fee: ${totalfee}\")\n",
        "\n",
        "elif 3 <= hours <= 5:\n",
        "  totalfee = hours * 3\n",
        "  print(f\"Number of hours: {hours}\")\n",
        "  print(f\"Total fee: ${totalfee}\")\n",
        "\n",
        "elif hours > 5:\n",
        "  totalfee = 3 * 3 + ((hours - 5)*5)\n",
        "  print(f\"Number of hours: {hours}\")\n",
        "  print(f\"Total fee: ${totalfee}\")\n"
      ],
      "id": "g3a_sPo50b81"
    },
    {
      "cell_type": "markdown",
      "metadata": {
        "id": "XBf0-SPz0b83"
      },
      "source": [
        "## Question 5 – Cafeteria Menu\n",
        "Write a Python code that creates a list with three food items.\n",
        "Check if an order is in the list.\n",
        "If the item is in the list print a confirmation, and if the item is not in the list print a polite message.\n",
        "Run the program with menu = ['pizza','salad','sandwich'] and order = 'salad'."
      ],
      "id": "XBf0-SPz0b83"
    },
    {
      "cell_type": "code",
      "metadata": {
        "id": "y52UEMoX0b85",
        "colab": {
          "base_uri": "https://localhost:8080/"
        },
        "outputId": "6306a78b-4660-4793-80c9-c558818cd646"
      },
      "execution_count": 1,
      "outputs": [
        {
          "output_type": "stream",
          "name": "stdout",
          "text": [
            "Your order of 'salad' is confirmed!\n"
          ]
        }
      ],
      "source": [
        "# write your answer here\n",
        "menu = ['pizza','salad','sandwich']\n",
        "order = 'salad'\n",
        "\n",
        "if order in menu:\n",
        "   print(f\"Your order of '{order}' is confirmed!\")\n",
        "else:\n",
        "  print(f\"Sorry, '{order}' is not currently on our menu\")"
      ],
      "id": "y52UEMoX0b85"
    },
    {
      "cell_type": "markdown",
      "metadata": {
        "id": "-60rL71F0b86"
      },
      "source": [
        "## Question 6 – Job Application Filter\n",
        "Write a Python code that checks if a person is eligible for a job.\n",
        "If the person is older than 22 and has more than 2 years of experience print Accepted.\n",
        "Otherwise print Not Accepted.\n",
        "Run the program with age = 23 and experience = 1."
      ],
      "id": "-60rL71F0b86"
    },
    {
      "cell_type": "code",
      "metadata": {
        "id": "-h964CqY0b88",
        "colab": {
          "base_uri": "https://localhost:8080/"
        },
        "outputId": "37b8993c-bbfb-4731-df35-0439ace93510"
      },
      "execution_count": 3,
      "outputs": [
        {
          "output_type": "stream",
          "name": "stdout",
          "text": [
            "Not Accepted\n"
          ]
        }
      ],
      "source": [
        "# write your answer here\n",
        "age = 23\n",
        "experience = 1\n",
        "\n",
        "if age > 22 and experience > 2:\n",
        "  print(\"Accepted\")\n",
        "else:\n",
        "  print(\"Not Accepted\")"
      ],
      "id": "-h964CqY0b88"
    },
    {
      "cell_type": "markdown",
      "metadata": {
        "id": "MOMMxnuE0b8-"
      },
      "source": [
        "## Question 7 – Clothing Advice\n",
        "Write a Python code that suggests clothing based on the temperature.\n",
        "If the temperature is below 10 print Coat and gloves, if the temperature is between 10 and 19 print Jacket, and if the temperature is 20 or more print T-shirt.\n",
        "Run the program with temperature = 15."
      ],
      "id": "MOMMxnuE0b8-"
    },
    {
      "cell_type": "code",
      "metadata": {
        "id": "V6RtrCOa0b8_",
        "colab": {
          "base_uri": "https://localhost:8080/"
        },
        "outputId": "31f39c93-9187-403f-a0f0-05dc966cf107"
      },
      "execution_count": 6,
      "outputs": [
        {
          "output_type": "stream",
          "name": "stdout",
          "text": [
            "wear a jacket\n"
          ]
        }
      ],
      "source": [
        "# write your answer here\n",
        "temperature = 15\n",
        "\n",
        "if temperature < 10:\n",
        "  print(\"Wear coat and gloves\")\n",
        "elif 10 <= temperature <= 19:\n",
        "  print(\"wear a jacket\")\n",
        "elif temperature >= 20:\n",
        "  print(\"Wear a T-shirt\")\n"
      ],
      "id": "V6RtrCOa0b8_"
    },
    {
      "cell_type": "markdown",
      "metadata": {
        "id": "R-i9Jzpn0b9A"
      },
      "source": [
        "## Question 8 – Loan Eligibility\n",
        "Write a Python code that checks loan eligibility.\n",
        "If the salary is at least 3000 and the credit score is at least 650 print Loan Approved, otherwise print Loan Denied.\n",
        "Run the program with salary = 3500 and credit_score = 640."
      ],
      "id": "R-i9Jzpn0b9A"
    },
    {
      "cell_type": "code",
      "metadata": {
        "id": "2M0s0bC40b9B",
        "colab": {
          "base_uri": "https://localhost:8080/"
        },
        "outputId": "7855b59d-8234-401e-9a32-a136d5cdc04d"
      },
      "execution_count": 8,
      "outputs": [
        {
          "output_type": "stream",
          "name": "stdout",
          "text": [
            "Loan denied\n"
          ]
        }
      ],
      "source": [
        "# write your answer here\n",
        "salary = 3500\n",
        "credit_score = 640\n",
        "\n",
        "if salary >= 3000 and credit_score >= 650:\n",
        "  print(\"Loan Approved\")\n",
        "else:\n",
        "  print(\"Loan denied\")"
      ],
      "id": "2M0s0bC40b9B"
    },
    {
      "cell_type": "markdown",
      "metadata": {
        "id": "I0WmTyFv0b9D"
      },
      "source": [
        "## Question 9 – Password Strength\n",
        "Write a Python code that checks if a password is strong, medium, or weak based on its length.\n",
        "If the password has fewer than 6 characters it is Weak, if it has 6 to 10 characters it is Medium, and if it has more than 10 characters it is Strong.\n",
        "Print the strength.\n",
        "Run the program with password = 'hello123'."
      ],
      "id": "I0WmTyFv0b9D"
    },
    {
      "cell_type": "code",
      "metadata": {
        "id": "Jm8fu7ft0b9E",
        "colab": {
          "base_uri": "https://localhost:8080/"
        },
        "outputId": "134395d5-1528-4aad-f40c-260d66af7c26"
      },
      "execution_count": 4,
      "outputs": [
        {
          "output_type": "stream",
          "name": "stdout",
          "text": [
            "Medium password\n"
          ]
        }
      ],
      "source": [
        "# write your answer here\n",
        "password = \"hello123\"\n",
        "length = len(password)\n",
        "\n",
        "if length < 6:\n",
        "  print(\"Weak password\")\n",
        "if 6 <= length <= 10:\n",
        "  print(\"Medium password\")\n",
        "else:\n",
        "  print(\"Strong password\")"
      ],
      "id": "Jm8fu7ft0b9E"
    },
    {
      "cell_type": "markdown",
      "metadata": {
        "id": "kgKSm4WB0b9F"
      },
      "source": [
        "## Question 10 – Guest List Checker\n",
        "Write a Python code that creates a list with three invited guests.\n",
        "Define a variable for a guest name.\n",
        "Check if the guest name is in the list.\n",
        "If the guest is in the list print Welcome, and if the guest is not in the list print Not on the list.\n",
        "Run the program with guest = 'Sara'."
      ],
      "id": "kgKSm4WB0b9F"
    },
    {
      "cell_type": "code",
      "metadata": {
        "id": "4pyiTbMT0b9G",
        "colab": {
          "base_uri": "https://localhost:8080/"
        },
        "outputId": "17423984-b706-47cb-a6d8-04901b93c16f"
      },
      "execution_count": 5,
      "outputs": [
        {
          "output_type": "stream",
          "name": "stdout",
          "text": [
            "Welcome!\n"
          ]
        }
      ],
      "source": [
        "# write your answer here\n",
        "guest = \"sara\"\n",
        "guestlist = [\"sara\", \"maya\", \"tala\"]\n",
        "\n",
        "if guest.lower() in [g.lower() for g in guestlist]:\n",
        "  print(\"Welcome!\")\n",
        "else:\n",
        "  print(\"Not on the list\")"
      ],
      "id": "4pyiTbMT0b9G"
    },
    {
      "cell_type": "code",
      "source": [],
      "metadata": {
        "id": "cW_JOSlNXuR3"
      },
      "id": "cW_JOSlNXuR3",
      "execution_count": null,
      "outputs": []
    }
  ],
  "metadata": {
    "kernelspec": {
      "display_name": "Python 3",
      "language": "python",
      "name": "python3"
    },
    "language_info": {
      "name": "python",
      "version": "3.x"
    },
    "colab": {
      "provenance": [],
      "include_colab_link": true
    }
  },
  "nbformat": 4,
  "nbformat_minor": 5
}