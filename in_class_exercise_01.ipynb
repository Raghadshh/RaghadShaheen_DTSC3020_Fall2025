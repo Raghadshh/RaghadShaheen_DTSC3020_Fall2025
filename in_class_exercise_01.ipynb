{
  "nbformat": 4,
  "nbformat_minor": 0,
  "metadata": {
    "colab": {
      "provenance": [],
      "authorship_tag": "ABX9TyNJpaV1aVaIV2So0mSk5jGk",
      "include_colab_link": true
    },
    "kernelspec": {
      "name": "python3",
      "display_name": "Python 3"
    },
    "language_info": {
      "name": "python"
    }
  },
  "cells": [
    {
      "cell_type": "markdown",
      "metadata": {
        "id": "view-in-github",
        "colab_type": "text"
      },
      "source": [
        "<a href=\"https://colab.research.google.com/github/Raghadshh/RaghadShaheen_DTSC3020_Fall2025/blob/main/in_class_exercise_01.ipynb\" target=\"_parent\"><img src=\"https://colab.research.google.com/assets/colab-badge.svg\" alt=\"Open In Colab\"/></a>"
      ]
    },
    {
      "cell_type": "code",
      "execution_count": 6,
      "metadata": {
        "colab": {
          "base_uri": "https://localhost:8080/"
        },
        "id": "tH8QJPUHPzXq",
        "outputId": "37aa7e08-c44d-408b-fa73-879b7df0fd04"
      },
      "outputs": [
        {
          "output_type": "stream",
          "name": "stdout",
          "text": [
            "Welcome to python\n",
            "Welcome to python, Raghad\n"
          ]
        }
      ],
      "source": [
        "print('Welcome to python')\n",
        "name = \"Raghad\"\n",
        "print(\"Welcome to python,\", name)\n",
        "\n",
        "#two stars ** make it bold\n",
        "#one star make it italic\n"
      ]
    }
  ]
}